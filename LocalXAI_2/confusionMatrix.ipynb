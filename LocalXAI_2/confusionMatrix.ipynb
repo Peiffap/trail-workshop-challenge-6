{
 "cells": [
  {
   "cell_type": "code",
   "execution_count": 1,
   "id": "19fe42ce-6ecb-4ffc-8fbe-a7d9efeb7b0e",
   "metadata": {},
   "outputs": [],
   "source": [
    "import torch\n",
    "import torch.nn.functional as F\n",
    "\n",
    "import numpy as np\n",
    "import os\n",
    "\n",
    "from ImgTransformer import ImgTransformer\n",
    "from Models import getModels"
   ]
  },
  {
   "cell_type": "code",
   "execution_count": 2,
   "id": "743dab20-c9da-4198-8090-1e1976450a03",
   "metadata": {},
   "outputs": [
    {
     "name": "stderr",
     "output_type": "stream",
     "text": [
      "C:\\Users\\jeman\\Anaconda3\\envs\\trail_workshop_clean_deepdream\\lib\\site-packages\\pytorch_lightning\\core\\saving.py:209: UserWarning: Found keys that are not in the model state dict but in the checkpoint: ['non_linear_evaluator.block_forward.2.weight', 'non_linear_evaluator.block_forward.2.bias']\n",
      "  rank_zero_warn(\n"
     ]
    }
   ],
   "source": [
    "models_dict = getModels()"
   ]
  },
  {
   "cell_type": "code",
   "execution_count": 3,
   "id": "6ed6c264-938f-423d-a4ad-537d24d89ae0",
   "metadata": {},
   "outputs": [],
   "source": [
    "img_transformer = ImgTransformer()\n",
    "\n",
    "res = img_transformer.get_transformed_img('../pneumonia/chest_xray/test/NORMAL/IM-0001-0001.jpeg')\n",
    "img, converted_img, transformed_img, input_ = res"
   ]
  },
  {
   "cell_type": "code",
   "execution_count": 4,
   "id": "b8fcc0b0-47eb-4d70-89c8-1191a303900d",
   "metadata": {},
   "outputs": [
    {
     "name": "stdout",
     "output_type": "stream",
     "text": [
      "Predicted: NORMAL ( 0.5499179363250732 )\n"
     ]
    },
    {
     "name": "stderr",
     "output_type": "stream",
     "text": [
      "C:\\Users\\jeman\\Anaconda3\\envs\\trail_workshop_clean_deepdream\\lib\\site-packages\\torch\\nn\\functional.py:718: UserWarning: Named tensors and all their associated APIs are an experimental feature and subject to change. Please do not use them for anything important until they are released as stable. (Triggered internally at  ..\\c10/core/TensorImpl.h:1156.)\n",
      "  return torch.max_pool2d(input, kernel_size, stride, padding, dilation, ceil_mode)\n"
     ]
    }
   ],
   "source": [
    "output = models_dict['resnet50_simclr_crop_12'](input_)\n",
    "# output = F.softmax(output[1], dim=1) # swav\n",
    "output = F.softmax(output, dim=1) # simclr\n",
    "prediction_score, pred_label_idx = torch.topk(output, 1)\n",
    "\n",
    "print('Predicted: NORMAL (', prediction_score.squeeze().item(), ')')"
   ]
  },
  {
   "cell_type": "markdown",
   "id": "3f8f325b-2345-47cf-b887-9020a4c61ee2",
   "metadata": {},
   "source": [
    "## Confusion Matrices"
   ]
  },
  {
   "cell_type": "code",
   "execution_count": 6,
   "id": "65ec0591-a952-45ea-8af9-5fe7cd871613",
   "metadata": {},
   "outputs": [
    {
     "name": "stdout",
     "output_type": "stream",
     "text": [
      "begin model resnet50_simclr_5\n",
      "total 390 true_positive 389 false_negative 1\n",
      "total 234 false_positive 102 true_negative 132\n",
      "accuracy 0.8349358974358975\n",
      "precision 0.7922606924643585\n",
      "recall 0.9974358974358974\n",
      "\n",
      "begin model resnet50_swav_13\n",
      "total 390 true_positive 390 false_negative 0\n",
      "total 234 false_positive 116 true_negative 118\n",
      "accuracy 0.8141025641025641\n",
      "precision 0.7707509881422925\n",
      "recall 1.0\n",
      "\n",
      "begin model resnet50_simclr_crop_12\n",
      "total 390 true_positive 390 false_negative 0\n",
      "total 234 false_positive 94 true_negative 140\n",
      "accuracy 0.8493589743589743\n",
      "precision 0.8057851239669421\n",
      "recall 1.0\n",
      "\n",
      "begin model resnet50_swav_crop_10\n",
      "total 390 true_positive 389 false_negative 1\n",
      "total 234 false_positive 96 true_negative 138\n",
      "accuracy 0.844551282051282\n",
      "precision 0.8020618556701031\n",
      "recall 0.9974358974358974\n",
      "\n"
     ]
    }
   ],
   "source": [
    "torch.manual_seed(0)\n",
    "np.random.seed(0)\n",
    "confusion_matrices = {}\n",
    "\n",
    "for name, model in models_dict.items():\n",
    "    print('begin model', name)\n",
    "    confusion_matrix = {}\n",
    "    \n",
    "    test_dir_path = '../pneumonia/chest_xray/test/'\n",
    "    confusion_matrix['true_positive'] = 0\n",
    "    confusion_matrix['false_negative'] = 0\n",
    "    pneumonia_dir_path = test_dir_path + 'PNEUMONIA/'\n",
    "    for img_path in os.listdir(pneumonia_dir_path):\n",
    "        if 'crop' in name:\n",
    "            current_input = img_transformer.get_transformed_img(pneumonia_dir_path + img_path, normalize=True, crop=True)[-1]\n",
    "        else:\n",
    "            current_input = img_transformer.get_transformed_img(pneumonia_dir_path + img_path, normalize=False, crop=False)[-1]\n",
    "        with torch.no_grad():\n",
    "            current_output = model(current_input)\n",
    "        if 'swav' in name: current_output = current_output[1]\n",
    "        res = torch.nn.functional.softmax(current_output[0],dim=0)[:2]\n",
    "        if res[0] > res[1]:\n",
    "            confusion_matrix['false_negative'] += 1\n",
    "        else:\n",
    "            confusion_matrix['true_positive'] += 1\n",
    "    print('total', len(os.listdir(pneumonia_dir_path)), 'true_positive', confusion_matrix['true_positive'], 'false_negative', confusion_matrix['false_negative'])\n",
    "\n",
    "    confusion_matrix['true_negative'] = 0\n",
    "    confusion_matrix['false_positive'] = 0\n",
    "    normal_dir_path = test_dir_path + 'NORMAL/'\n",
    "    for img_path in os.listdir(normal_dir_path):\n",
    "        if 'crop' in name:\n",
    "            current_input = img_transformer.get_transformed_img(normal_dir_path + img_path, normalize=True, crop=True)[-1]\n",
    "        else:\n",
    "            current_input = img_transformer.get_transformed_img(normal_dir_path + img_path, normalize=False, crop=False)[-1]\n",
    "        with torch.no_grad():\n",
    "            current_output = model(current_input)\n",
    "        if 'swav' in name: current_output = current_output[1]\n",
    "        res = torch.nn.functional.softmax(current_output[0],dim=0)[:2]\n",
    "        if res[0] > res[1]:\n",
    "            confusion_matrix['true_negative'] += 1\n",
    "        else:\n",
    "            confusion_matrix['false_positive'] += 1\n",
    "    print('total', len(os.listdir(normal_dir_path)), 'false_positive', confusion_matrix['false_positive'], 'true_negative', confusion_matrix['true_negative'])\n",
    "    \n",
    "    print('accuracy', (confusion_matrix['true_negative'] + confusion_matrix['true_positive']) / (len(os.listdir(normal_dir_path))+len(os.listdir(pneumonia_dir_path))))\n",
    "    print('precision', confusion_matrix['true_positive'] / (confusion_matrix['true_positive'] + confusion_matrix['false_positive']))\n",
    "    print('recall', confusion_matrix['true_positive'] / (confusion_matrix['true_positive'] + confusion_matrix['false_negative']))\n",
    "        \n",
    "    confusion_matrices[name] = confusion_matrix\n",
    "    print()"
   ]
  },
  {
   "cell_type": "markdown",
   "id": "8c70fa56-6f34-4dbb-8ab8-3070b442a1a2",
   "metadata": {},
   "source": [
    "## Confusion Matrices (reverse crop)"
   ]
  },
  {
   "cell_type": "markdown",
   "id": "3b4d4b74-20b3-411d-b5f7-b82420a6d57a",
   "metadata": {},
   "source": [
    "Cropped images to models trained with not cropped images and inversely"
   ]
  },
  {
   "cell_type": "code",
   "execution_count": 8,
   "id": "6f0333bb-5260-418f-b6f0-13e7a1ef67c8",
   "metadata": {},
   "outputs": [
    {
     "name": "stdout",
     "output_type": "stream",
     "text": [
      "begin model resnet50_simclr_5\n",
      "total 390 true_positive 390 false_negative 0\n",
      "total 234 false_positive 234 true_negative 0\n",
      "accuracy 0.625\n",
      "precision 0.625\n",
      "recall 1.0\n",
      "\n",
      "begin model resnet50_swav_13\n",
      "total 390 true_positive 390 false_negative 0\n",
      "total 234 false_positive 233 true_negative 1\n",
      "accuracy 0.6266025641025641\n",
      "precision 0.6260032102728732\n",
      "recall 1.0\n",
      "\n",
      "begin model resnet50_simclr_crop_12\n",
      "total 390 true_positive 388 false_negative 2\n",
      "total 234 false_positive 105 true_negative 129\n",
      "accuracy 0.8285256410256411\n",
      "precision 0.7870182555780934\n",
      "recall 0.9948717948717949\n",
      "\n",
      "begin model resnet50_swav_crop_10\n",
      "total 390 true_positive 381 false_negative 9\n",
      "total 234 false_positive 126 true_negative 108\n",
      "accuracy 0.7836538461538461\n",
      "precision 0.7514792899408284\n",
      "recall 0.9769230769230769\n",
      "\n"
     ]
    }
   ],
   "source": [
    "torch.manual_seed(0)\n",
    "np.random.seed(0)\n",
    "confusion_matrices = {}\n",
    "\n",
    "for name, model in models_dict.items():\n",
    "    print('begin model', name)\n",
    "    confusion_matrix = {}\n",
    "    \n",
    "    test_dir_path = '../pneumonia/chest_xray/test/'\n",
    "    confusion_matrix['true_positive'] = 0\n",
    "    confusion_matrix['false_negative'] = 0\n",
    "    pneumonia_dir_path = test_dir_path + 'PNEUMONIA/'\n",
    "    for img_path in os.listdir(pneumonia_dir_path):\n",
    "        if 'crop' in name:\n",
    "            current_input = img_transformer.get_transformed_img(pneumonia_dir_path + img_path, normalize=True, crop=False)[-1]\n",
    "        else:\n",
    "            current_input = img_transformer.get_transformed_img(pneumonia_dir_path + img_path, normalize=False, crop=True)[-1]\n",
    "        with torch.no_grad():\n",
    "            current_output = model(current_input)\n",
    "        if 'swav' in name: current_output = current_output[1]\n",
    "        res = torch.nn.functional.softmax(current_output[0],dim=0)[:2]\n",
    "        if res[0] > res[1]:\n",
    "            confusion_matrix['false_negative'] += 1\n",
    "        else:\n",
    "            confusion_matrix['true_positive'] += 1\n",
    "    print('total', len(os.listdir(pneumonia_dir_path)), 'true_positive', confusion_matrix['true_positive'], 'false_negative', confusion_matrix['false_negative'])\n",
    "\n",
    "    confusion_matrix['true_negative'] = 0\n",
    "    confusion_matrix['false_positive'] = 0\n",
    "    normal_dir_path = test_dir_path + 'NORMAL/'\n",
    "    for img_path in os.listdir(normal_dir_path):\n",
    "        if 'crop' in name:\n",
    "            current_input = img_transformer.get_transformed_img(normal_dir_path + img_path, normalize=True, crop=False)[-1]\n",
    "        else:\n",
    "            current_input = img_transformer.get_transformed_img(normal_dir_path + img_path, normalize=False, crop=True)[-1]\n",
    "        with torch.no_grad():\n",
    "            current_output = model(current_input)\n",
    "        if 'swav' in name: current_output = current_output[1]\n",
    "        res = torch.nn.functional.softmax(current_output[0],dim=0)[:2]\n",
    "        if res[0] > res[1]:\n",
    "            confusion_matrix['true_negative'] += 1\n",
    "        else:\n",
    "            confusion_matrix['false_positive'] += 1\n",
    "    print('total', len(os.listdir(normal_dir_path)), 'false_positive', confusion_matrix['false_positive'], 'true_negative', confusion_matrix['true_negative'])\n",
    "    \n",
    "    print('accuracy', (confusion_matrix['true_negative'] + confusion_matrix['true_positive']) / (len(os.listdir(normal_dir_path))+len(os.listdir(pneumonia_dir_path))))\n",
    "    print('precision', confusion_matrix['true_positive'] / (confusion_matrix['true_positive'] + confusion_matrix['false_positive']))\n",
    "    print('recall', confusion_matrix['true_positive'] / (confusion_matrix['true_positive'] + confusion_matrix['false_negative']))\n",
    "    \n",
    "    confusion_matrices[name] = confusion_matrix\n",
    "    print()"
   ]
  }
 ],
 "metadata": {
  "kernelspec": {
   "display_name": "Python 3 (ipykernel)",
   "language": "python",
   "name": "python3"
  },
  "language_info": {
   "codemirror_mode": {
    "name": "ipython",
    "version": 3
   },
   "file_extension": ".py",
   "mimetype": "text/x-python",
   "name": "python",
   "nbconvert_exporter": "python",
   "pygments_lexer": "ipython3",
   "version": "3.7.11"
  }
 },
 "nbformat": 4,
 "nbformat_minor": 5
}
